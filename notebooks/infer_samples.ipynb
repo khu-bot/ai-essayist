{
 "cells": [
  {
   "cell_type": "code",
   "execution_count": 1,
   "metadata": {},
   "outputs": [
    {
     "name": "stderr",
     "output_type": "stream",
     "text": [
      "/home/cosmoquester/aibookathon/env/lib/python3.9/site-packages/tqdm/auto.py:22: TqdmWarning: IProgress not found. Please update jupyter and ipywidgets. See https://ipywidgets.readthedocs.io/en/stable/user_install.html\n",
      "  from .autonotebook import tqdm as notebook_tqdm\n"
     ]
    }
   ],
   "source": [
    "from transformers import AutoModelForCausalLM, AutoTokenizer"
   ]
  },
  {
   "cell_type": "code",
   "execution_count": 91,
   "metadata": {},
   "outputs": [],
   "source": [
    "model_name: str = \"../models/polyglot-1.3b-2500step\"\n",
    "tokenizer_name: str = model_name\n",
    "max_length: int = 128\n",
    "device: str = \"cuda:0\"\n",
    "skt: bool = False"
   ]
  },
  {
   "cell_type": "code",
   "execution_count": 92,
   "metadata": {},
   "outputs": [],
   "source": [
    "if skt:\n",
    "    tokenizer_kwargs = dict(\n",
    "        bos_token=\"</s>\",\n",
    "        eos_token=\"</s>\",\n",
    "        unk_token=\"<unk>\",\n",
    "        pad_token=\"<pad>\",\n",
    "        mask_token=\"<mask>\",\n",
    "    )\n",
    "else:\n",
    "    tokenizer_kwargs = {}\n",
    "\n",
    "tokenizer = AutoTokenizer.from_pretrained(tokenizer_name, **tokenizer_kwargs)\n",
    "model = AutoModelForCausalLM.from_pretrained(model_name).to(device)"
   ]
  },
  {
   "cell_type": "code",
   "execution_count": 93,
   "metadata": {},
   "outputs": [],
   "source": [
    "prompts = [\n",
    "    \"제목: 잡초론\\n\",\n",
    "    \"제목: 동태 한 마리의 추억\\n\",\n",
    "    \"제목: 열심히만 살아서는 안 되는 이유\\n\",\n",
    "    \"제목: 굴뚝연기 날 즈음\\n\",\n",
    "    \"제목: 누구나 자기 몫의 괴로움이 있다\\n\",\n",
    "    \"제목: 딸과의 서점 나들이\\n\",\n",
    "    \"제목: 22.01.17\\n\",\n",
    "    \"제목: 책 : 이태준\\n\",\n",
    "    \"제목: 새롭게 태어나는 나이, 서른\\n\",\n",
    "    \"제목: [D-34] 너하고 나는 친구 되어서 사이좋게 지내자\\n\",\n",
    "    \"제목: 꽃다발을 보살피는 마음\\n\",\n",
    "    \"제목: 고양시를 고양시라 말하지 못하고\\n\",\n",
    "    \"제목: [제주도 이야기] 첫 소절 때문에 잊지 못하는 노래..\\n\",\n",
    "    \"제목: 춥고, 덥고, 시원하고, 따뜻한 27℃\\n\",\n",
    "    \"제목: 하늘에게 작은 목소리로 질문을 할 때\\n\",\n",
    "    \"제목: 직장인 때 아주 작은 습관, 퇴사 후 억대 자산이 되다\\n\",\n",
    "    \"제목: 제주일보 해연풍-아이들의 파아란 꿈\\n\",\n",
    "    \"제목: 타인의 상상\\n\",\n",
    "    \"제목: 얼굴\\n\",\n",
    "    \"제목: 불현듯 찾아온 손님\\n\",\n",
    "]"
   ]
  },
  {
   "cell_type": "code",
   "execution_count": 94,
   "metadata": {},
   "outputs": [],
   "source": [
    "input_ids = tokenizer(\n",
    "        prompts,\n",
    "        add_special_tokens=True,\n",
    "        padding=\"longest\",\n",
    "        return_tensors=\"pt\",\n",
    "        return_token_type_ids=False,\n",
    "        return_attention_mask=False,\n",
    ")[\"input_ids\"].to(device)"
   ]
  },
  {
   "cell_type": "code",
   "execution_count": 95,
   "metadata": {},
   "outputs": [
    {
     "name": "stderr",
     "output_type": "stream",
     "text": [
      "The attention mask and the pad token id were not set. As a consequence, you may observe unexpected behavior. Please pass your input's `attention_mask` to obtain reliable results.\n",
      "Setting `pad_token_id` to `eos_token_id`:0 for open-end generation.\n"
     ]
    }
   ],
   "source": [
    "outputs = model.generate(input_ids, \n",
    "    max_length, \n",
    "    do_sample=True,\n",
    "    repetition_penalty=2.0, \n",
    "    num_return_sequences=1,\n",
    ")"
   ]
  },
  {
   "cell_type": "code",
   "execution_count": 96,
   "metadata": {},
   "outputs": [
    {
     "name": "stdout",
     "output_type": "stream",
     "text": [
      "제목: 잡초론\n",
      "장거리 운전하지 말고 집앞에 두번째로 가는것부터가 내 삶의 목표야..나를 위해 투자한다면서 왜? ㅎㅇㄴ 잘 봐줘야 하냐.내 시간을 아껴줄수 있는데~ 이 생각때문이지...근데 이거 쓰기 시이작할꺼면 적어도 3일은 써야지 이틀쓰기 아까울텐데 뭐 대단한거 한다고 오밤중 12시 부터 5시가 되도록 일욜까지 쓸라면 뭘 포기해야함이야....\n",
      "\n",
      "제목: 동태 한 마리의 추억\n",
      "▣ 일 시 / 11월 29일 (토) 내 생일 : 2016년11/29 ^*~ *** ~행복한 날 들녁에서****|작성자 아띠에라 | 조회 3188,609 건 2017-'17.10 월내 생파는 하기 전까지 ㅠㅎ <2017 세계 책마을’ 축제> 저자 초청행사를 아래와 같이 개최합니다 일시2016 10 27(금요일), 20시 장소서울숲길 카페 카푸치노 세\n",
      "\n",
      "제목: 열심히만 살아서는 안 되는 이유\n",
      "본 발명의 실시예에서, 상기 복수 개의 터치를 갖도록 구성된 손가락 접촉구가 배치되어 이루어지고; 각 층(525)과 인접하여 위치하며 중앙부에 한개 이상 대응위치한 요홈이 구비된다. 사용자 입력을 위한 것으로 마련됨으로서 전체 형상 형성 및 이물 제거 기능 중 적어도 어느 하나 또는 양자 모두 포함할 수 있다 또 다른 예로서 타원형 디스플레이도 해당될수있음은 주지관용이라 할것임'ㅁ\n",
      "\n",
      "제목: 굴뚝연기 날 즈음\n",
      "[CBS TV] '응답한다'가 아니었구나 (앵커리지 김환기) 우리는 누구나 마음에 응어리진 무언가를 지니고 있습니다. 그 누군가의 이름이 뭐였는지 기억되어 남아있지요? 저도 그렇고요, 여러분들에게 묻죠?\"그 사람을 아시나요\" 답해주겠어요.\"답할 수 없다면 내 마음속이나 깊이 새겨보아요 :D“당신은 당신에게서 떠나온 존재라고 여기며 잊힌 채 살아가시는지요!”정\n",
      "\n",
      "제목: 누구나 자기 몫의 괴로움이 있다\n",
      "저는 개인적인 생각으로 말할게요. 사람은 자신에게도, 타인한테서도 피해를 받을까 무서워 하지 않으면 안 될 것 같아요 제가 그랬어요 ^___ㅠ 전 20살 때 정말 아무것을 모르고 철없었죠.. 지금 글 보시면 아시다시피 모든 게 부정적으로 보이실 수 도있는데 그때 저 역시 그런식 이였거든요... 처음엔 그냥 그렇게 했지만 그건 오래 못가요 근데 그게 어느정도 극복되어가면서 이젠 그러려니? 할 줄\n",
      "\n",
      "제목: 딸과의 서점 나들이\n",
      "안녕하세요! (+9) 내 인생에 몇 번째? : 오늘 나를 행복한 눈으로, 맑은 눈빛(영문법 틀린 거 아님 주의... ㅋㅎ; 암튼 맞음^.. _지송요. ) 하고는 잠시 고개 꾸벅 숙이고 책을 읽던 중이었는데… ‘엄마~ 아빠가 요즘 좀 괜찮아 보이니 다행이야!!’ 이 한마디 말로 인해 시작되다ᄂ#1 “아이코우어빠” <\n",
      "\n",
      "제목: 22.01.17\n",
      "김 씨는 지금 내가 이 자리에 있지 않지만 마음만은 늘 그곳에서 당신을 기다리고... 그렇게 기다려왔는데…...... 너그럽게 저무러진 네 눈빛이 그리워진 오늘 밤마다 꿈속에선 그녀의 웃음소리마저 들려오네 가슴 안에다 묻어놓았던 그대 향기, 그리워져서 보고 싶어서 또 다시 뒤척거리며 눈 부릅뜨면 나를 비웃자 그댄 웃으며 날 바라보곤 하지요 우리 함께 할 수 없다는 걸 알아도 서로 만나\n",
      "\n",
      "제목: 책 : 이태준\n",
      "[김형욱의 '역사와 나'] 해방공간으로서 대한민국, 역사적 공간은 정치권력자(政治人霸)가 자기들 마음대로 통제하는 장소였다  1946년 김구처럼 1945.8월 10일 이후 한국민족에 있어 ‘해방’이라는 말에서 흔히 우리에게 회자되었던 것 가운데 하나를 꼽으라면 아마도 “자유”, 혹은 보다 정확한 표현으로 하자면 「헌법」이라 불리어지고 싶지 않을까 생각한다 이 글을\n",
      "\n",
      "제목: 새롭게 태어나는 나이, 서른\n",
      "아쉬운 점도 많아서 안된다고 얘기하면 내가 뭐라고 하는지 모르겠지.....? 나랑 비슷한거같은데 왜이리 글쓴님을 나무라는거지 ㅠ 좀 다른 의견 제시해봐!!! ^-T 난 잘 이해안됨.; 공감능력 하나 없노 근데 저정도 일로 헤어지진 말자~ 진짜 너무 슬프고 안타깝다.... 남자친구 좋은 사람만나길 바라니까 저런식의 남혐글좀 그만쓰셈 개공감이라 반대폭탄\n",
      "\n",
      "제목: [D-34] 너하고 나는 친구 되어서 사이좋게 지내자\n",
      "우리에게 시간이 조금 있다면 언제라도 좋을 것만 같다. 둘 다 바쁜데다가 가끔은 너무 힘들 때를 맞이한다 해도, 지금보다 더 힘든 건 아닌 거니까 말이야..? ^/<*No problem mate! For bitcoins I keep KYC now to reverse it somehwere till the early day on Jan 7thIt had a civil\n",
      "\n",
      "제목: 꽃다발을 보살피는 마음\n",
      "도 3a, 1/31에 이어짐. 도 11의 A부분은 사용자 단말이 입력된 상기 제1위치정보(UI)를 기반으로 판단할 수 있다 (즉 위치 파악부에서 확인되거나 식별될 시점 등 기준시점으로부터 특정시간 이후부터 시간변화량만큼 지연됨), 즉 현재시각-A지점에서부터 이미 도달 가능한 최대거리로부터 출발지기준까지 이동하는데 소요 되었다가 다른 지점보다 늦으면 최종이동 거리가 길어지면 된다 - 여기서 M\n",
      "\n",
      "제목: 고양시를 고양시라 말하지 못하고\n",
      "[동아일보] '동쪽의 수호자’는 지난 3월 15일 오전 11시 30분쯤, 미국 캘리포니아에서 서쪽 바다로 추락했다. 1명이 사망하고 60여 명을 실종시켰던 것으로 드러난 데 이어 20대 한인 학생 커플 가운데 둘 다 스스로 목숨 끊었다는 보도 내용에 충격적인 비화가 알려져 화제가 되기도 했죠? 지난달 초엔 한국계 미국인 2인조 팝밴드 제이씨현스(JCX) 멤버들이 살해당했거든요~  그\n",
      "\n",
      "제목: [제주도 이야기] 첫 소절 때문에 잊지 못하는 노래..\n",
      "안녕하세요?^___<요새 비가 와서 그런지 아침 저녁으로 추워졌네요~감기 걸리기 딱 좋은 날씨!!!오늘도 어김없이 글 올리려고 왔습니당 오늘 올릴 소설이 있는데용 전 개인적으로 장편소설보다는 단편집,단편중 하나의 에피소드로 이루어진 작지만 알찬구성물(?) 등을더 좋아하고 즐기거든ㅋ론 예외적인 경우들이나 사람마다 취향이란게 다다르듯한 편이라고 볼수있겠지요;)\n",
      "\n",
      "제목: 춥고, 덥고, 시원하고, 따뜻한 27℃\n",
      "‘아리스토파네스의 웃음과 니체로부터 온 패러디’에 대하여. ﻿ - 아테로 가타이와 에라스무스가 말하는 포스트모더니즘 예술관- 이 글은 서울아트시론 2014년 봄호부터 ‘서울이 낳았다 도시들'까지 다섯 번째 연재를 한다면서 그동안 써오던 것을 종합하여 재구성해 본 내용입니다(https :/ / webmaster@seoulartnourior\n",
      "\n",
      "제목: 하늘에게 작은 목소리로 질문을 할 때\n",
      "Okay! Shit's stealing the oh progressive damn hardcore game that is Eric Sermon tryna call it my Rustafied rolled in a long wave. Glad to see some futurist and not bulshidgeWell I kind of expect you, ValverbaniaAnd Celt\n",
      "\n",
      "제목: 직장인 때 아주 작은 습관, 퇴사 후 억대 자산이 되다\n",
      "(서울=연합뉴스) 권수현 기자 = 코스닥지수가 장중 800포인트를 돌파하는 등 상승세로 돌아서 올해 들어 세 번째 상승폭을 갈아치웠지만 하락세도 만만치 않았던 것으로 나타났습니다. 9일 한국거래소에 따르면 5월부터 이달 7일간 3∼7% 사이의 누적 변동률 그래프에서 오전 한때 -2년 전 기록한 코스피·코스닥시장 하락율보다 낮거나 같게 나오다가 오후 들어서 오히려 커졌으며 전날에도 6-75%, 즉 0~5\n",
      "\n",
      "제목: 제주일보 해연풍-아이들의 파아란 꿈\n",
      "I think if they did randomly scanslipped away it would be easier for you to read your new text I'm guessing.More likelihood of vision is involunctary, and consciousnessebility how mathed with once perfect sequence #1?Yea imma\n",
      "\n",
      "제목: 타인의 상상\n",
      "이에 따라 3시간 20분 공연을 보면서 한 편의 소설 같은 영화를 봤다. 주인공인 배우는 마지막 장면에서 대사 한마디로 관객과 기자회견까지 열었다는 얘기가 있고 많관적(多關的)으로 맞지 않는다\"라는 반응들이 나오자 박중훈, 김하늘씨 등 이 정도 말이면 만족스러운 작품 아닌가? 라는 이야기도 등장했었는데...사실 나에게 그런 건 큰 의미와 감명보담 재미였는지라 조금 지루했지만\n",
      "\n",
      "제목: 얼굴\n",
      "문구라의 일기는 안가고, 우리 가족들이랑 외식할 수 있게 해주세요~♬ ((한때 많이 들어봤던 노래^_T) ) #5월 1일.오늘은 4명이 아니지만 다 같이 맛있다는 돈까스 먹음맛있었다><-돈가스 맛집 찾아서 진짜 자주 가는데 ㅎㅏ상 찍어야지 하면서 까먹기만 함 후후..먹느라 바빠쓰여...하아 오늘 처음으로\n",
      "\n",
      "제목: 불현듯 찾아온 손님\n",
      "﻿  여행을 갔다오고 나서는 꼭 집에 도착하자마자 컴퓨터를 켠다. 인터넷이 터지지 않으니 노트북으로 블로그 관리라도 해야했기 때문인데, 역시나 이번에도 시간 순서대로 한 포스팅 안에다가만 주루룩 나열해본다 ----> 이런식? ㅋㅎ----------------------------1주일짜리 휴가내어 3박 4일 출장 후 한국 복귀 하던 날공항서 만난 동생의 깜짝선물!비행기에서 급하게 산 물건 중 정말 고맙기도 하고 잘\n",
      "\n"
     ]
    }
   ],
   "source": [
    "texts = tokenizer.batch_decode(outputs, skip_special_tokens=True)\n",
    "for text in texts:\n",
    "    print(text)\n",
    "    print()"
   ]
  },
  {
   "cell_type": "code",
   "execution_count": null,
   "metadata": {},
   "outputs": [],
   "source": []
  }
 ],
 "metadata": {
  "kernelspec": {
   "display_name": "env",
   "language": "python",
   "name": "python3"
  },
  "language_info": {
   "codemirror_mode": {
    "name": "ipython",
    "version": 3
   },
   "file_extension": ".py",
   "mimetype": "text/x-python",
   "name": "python",
   "nbconvert_exporter": "python",
   "pygments_lexer": "ipython3",
   "version": "3.9.13"
  },
  "orig_nbformat": 4,
  "vscode": {
   "interpreter": {
    "hash": "9672730e64e8a60be15af299c424939eda74a783c931ea854ba4a2827e6ef14d"
   }
  }
 },
 "nbformat": 4,
 "nbformat_minor": 2
}
