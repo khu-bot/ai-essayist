{
 "cells": [
  {
   "cell_type": "code",
   "execution_count": 1,
   "metadata": {},
   "outputs": [
    {
     "name": "stderr",
     "output_type": "stream",
     "text": [
      "/home/cosmoquester/aibookathon/env/lib/python3.9/site-packages/tqdm/auto.py:22: TqdmWarning: IProgress not found. Please update jupyter and ipywidgets. See https://ipywidgets.readthedocs.io/en/stable/user_install.html\n",
      "  from .autonotebook import tqdm as notebook_tqdm\n"
     ]
    }
   ],
   "source": [
    "import pandas as pd\n",
    "import json\n",
    "from transformers import AutoTokenizer"
   ]
  },
  {
   "cell_type": "code",
   "execution_count": 2,
   "metadata": {},
   "outputs": [],
   "source": [
    "df = pd.read_csv(\"../dataset-v2/dev.jsonl\", sep=\"\\x00\", header=None)\n",
    "\n",
    "df[\"data\"] = df[0].apply(json.loads)\n",
    "df[\"title\"] = df[\"data\"].apply(lambda data: data[\"title\"])\n",
    "df[\"content\"] = df[\"data\"].apply(lambda data: data[\"content\"])\n",
    "df = df[[\"title\", \"content\"]].copy()"
   ]
  },
  {
   "cell_type": "code",
   "execution_count": 3,
   "metadata": {},
   "outputs": [],
   "source": [
    "tokenizer = AutoTokenizer.from_pretrained(\"EleutherAI/polyglot-ko-1.3b\")"
   ]
  },
  {
   "cell_type": "code",
   "execution_count": 6,
   "metadata": {},
   "outputs": [],
   "source": [
    "df[\"tokens\"] = df[\"content\"].apply(lambda text: tokenizer(text, return_attention_mask=False, return_token_type_ids=False, truncation=False)[\"input_ids\"])"
   ]
  },
  {
   "cell_type": "code",
   "execution_count": 21,
   "metadata": {},
   "outputs": [],
   "source": [
    "df[\"token_lengths\"] = df[\"tokens\"].apply(len)\n",
    "df[\"char_lengths\"] = df[\"content\"].apply(len)"
   ]
  },
  {
   "cell_type": "code",
   "execution_count": 10,
   "metadata": {},
   "outputs": [],
   "source": [
    "token_length_counts = df[\"token_lengths\"].value_counts()"
   ]
  },
  {
   "cell_type": "code",
   "execution_count": 22,
   "metadata": {},
   "outputs": [
    {
     "name": "stdout",
     "output_type": "stream",
     "text": [
      "토큰 개수 평균: 956.4428258924132\n",
      "토큰 개수 중간값: 839.0\n",
      "토큰 개수 표준편차: 774.3243166817458\n"
     ]
    }
   ],
   "source": [
    "print(\"토큰 개수 평균:\", df[\"token_lengths\"].mean())\n",
    "print(\"토큰 개수 중간값:\", df[\"token_lengths\"].median())\n",
    "print(\"토큰 개수 표준편차:\", df[\"token_lengths\"].std())"
   ]
  },
  {
   "cell_type": "code",
   "execution_count": 23,
   "metadata": {},
   "outputs": [
    {
     "name": "stdout",
     "output_type": "stream",
     "text": [
      "글자 개수 평균: 1768.1240429551556\n",
      "글자 개수 중간값: 1553.0\n",
      "글자 개수 표준편차: 1439.7600623423116\n"
     ]
    }
   ],
   "source": [
    "print(\"글자 개수 평균:\", df[\"char_lengths\"].mean())\n",
    "print(\"글자 개수 중간값:\", df[\"char_lengths\"].median())\n",
    "print(\"글자 개수 표준편차:\", df[\"char_lengths\"].std())"
   ]
  },
  {
   "cell_type": "code",
   "execution_count": 46,
   "metadata": {},
   "outputs": [
    {
     "name": "stdout",
     "output_type": "stream",
     "text": [
      " 1000 글자 이상 문서: 13499개,  67.1125%\n",
      " 5000 글자 이상 문서:   545개,   2.7096%\n",
      "10000 글자 이상 문서:    40개,   0.1989%\n",
      "20000 글자 이상 문서:     1개,   0.0050%\n"
     ]
    }
   ],
   "source": [
    "for n in [1000, 5000, 10000, 20000]:\n",
    "    n_rows_over_characters = df[df[\"char_lengths\"]>n][\"title\"].count()\n",
    "    print(f\"{n:5} 글자 이상 문서: {n_rows_over_characters:5}개, {n_rows_over_characters / df.shape[0] * 100:8.4f}%\")"
   ]
  },
  {
   "cell_type": "code",
   "execution_count": 20,
   "metadata": {},
   "outputs": [
    {
     "data": {
      "text/plain": [
       "<AxesSubplot: >"
      ]
     },
     "execution_count": 20,
     "metadata": {},
     "output_type": "execute_result"
    },
    {
     "data": {
      "image/png": "[encoded data removed]",
      "text/plain": [
       "<Figure size 640x480 with 1 Axes>"
      ]
     },
     "metadata": {},
     "output_type": "display_data"
    }
   ],
   "source": [
    "token_length_counts.plot()"
   ]
  },
  {
   "cell_type": "code",
   "execution_count": null,
   "metadata": {},
   "outputs": [],
   "source": []
  }
 ],
 "metadata": {
  "kernelspec": {
   "display_name": "env",
   "language": "python",
   "name": "python3"
  },
  "language_info": {
   "codemirror_mode": {
    "name": "ipython",
    "version": 3
   },
   "file_extension": ".py",
   "mimetype": "text/x-python",
   "name": "python",
   "nbconvert_exporter": "python",
   "pygments_lexer": "ipython3",
   "version": "3.9.13"
  },
  "orig_nbformat": 4,
  "vscode": {
   "interpreter": {
    "hash": "9672730e64e8a60be15af299c424939eda74a783c931ea854ba4a2827e6ef14d"
   }
  }
 },
 "nbformat": 4,
 "nbformat_minor": 2
}
